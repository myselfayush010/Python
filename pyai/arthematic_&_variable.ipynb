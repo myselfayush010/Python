{
 "cells": [
  {
   "cell_type": "markdown",
   "metadata": {},
   "source": [
    "Let's create comprehensive notes on arithmetic operations and variables.\n",
    "\n",
    "### Plan:\n",
    "1. Create a markdown file with variable basics\n",
    "2. Add arithmetic operators section\n",
    "3. Include examples for each concept\n",
    "4. Add common pitfalls and best practices\n",
    "\n"
   ]
  },
  {
   "cell_type": "code",
   "execution_count": null,
   "metadata": {
    "vscode": {
     "languageId": "markdown"
    }
   },
   "outputs": [],
   "source": [
    "# Programming Fundamentals: Variables and Arithmetic\n",
    "\n",
    "## Variables\n",
    "\n",
    "### Basic Concepts\n",
    "- Variables are containers for storing data values\n",
    "- Must be declared before use\n",
    "- Have a specific data type (in typed languages)\n",
    "- Follow naming conventions\n",
    "\n",
    "### Variable Declaration Examples\n",
    "```python\n",
    "age = 25                  # Integer\n",
    "name = \"John\"            # String\n",
    "price = 19.99           # Float/Double\n",
    "is_active = True        # Boolean"
   ]
  },
  {
   "cell_type": "markdown",
   "metadata": {},
   "source": [
    "\n",
    "\n",
    "## Arithmetic Operations\n",
    "\n",
    "### Basic Operators\n",
    "- `+` Addition\n",
    "- `-` Subtraction\n",
    "- `*` Multiplication\n",
    "- `/` Division\n",
    "- `%` Modulus (remainder)\n",
    "- `**` Exponentiation\n",
    "- \n",
    "\n",
    " Floor division\n",
    "\n",
    "### Examples\n"
   ]
  },
  {
   "cell_type": "code",
   "execution_count": null,
   "metadata": {},
   "outputs": [],
   "source": [
    "# Basic arithmetic\n",
    "a = 10\n",
    "b = 3\n",
    "\n",
    "sum = a + b         # 13\n",
    "difference = a - b  # 7\n",
    "product = a * b     # 30\n",
    "quotient = a / b    # 3.333...\n",
    "remainder = a % b   # 1\n",
    "power = a ** b      # 1000\n",
    "floor_div = a // b  # 3"
   ]
  },
  {
   "cell_type": "markdown",
   "metadata": {},
   "source": [
    "\n",
    "\n",
    "### Common Pitfalls\n",
    "1. Division by zero\n",
    "2. Integer vs Float division\n",
    "3. Order of operations\n",
    "4. Type mismatches\n",
    "\n",
    "### Best Practices\n",
    "- Use meaningful variable names\n",
    "- Initialize variables before use\n",
    "- Be careful with floating-point arithmetic\n",
    "- Use parentheses for complex calculations\n"
   ]
  },
  {
   "cell_type": "code",
   "execution_count": null,
   "metadata": {
    "vscode": {
     "languageId": ""
    }
   },
   "outputs": [],
   "source": []
  },
  {
   "cell_type": "markdown",
   "metadata": {},
   "source": [
    "# Plan for Building Arithmetic and Variables Tutorial\n",
    "\n",
    "1. Create main program file\n",
    "2. Structure with sections for:\n",
    "   - Variable declarations\n",
    "   - Basic arithmetic\n",
    "   - Operators\n",
    "   - Common use cases\n",
    "3. Add comments for clarity\n",
    "4. Include error handling examples\n",
    "\n",
    "# Implementation\n",
    "\n"
   ]
  },
  {
   "cell_type": "code",
   "execution_count": null,
   "metadata": {},
   "outputs": [],
   "source": [
    "\n",
    "\n",
    "# Variable Declaration Examples\n",
    "num1 = 10\n",
    "text = \"Hello\"\n",
    "price = 19.99\n",
    "is_valid = True\n",
    "\n",
    "# Basic Arithmetic Operations\n",
    "x = 20\n",
    "y = 5\n",
    "\n",
    "sum_result = x + y          # Addition: 25\n",
    "diff_result = x - y         # Subtraction: 15\n",
    "mult_result = x * y         # Multiplication: 100\n",
    "div_result = x / y          # Division: 4.0\n",
    "mod_result = x % y          # Modulus: 0\n",
    "exp_result = x ** 2         # Exponent: 400\n",
    "floor_div = x // y          # Floor Division: 4\n",
    "\n",
    "# Type Conversion\n",
    "int_num = int(price)        # 19\n",
    "float_num = float(\"10.5\")   # 10.5\n",
    "\n",
    "# Error Handling\n",
    "try:\n",
    "    result = x / 0\n",
    "except ZeroDivisionError:\n",
    "    print(\"Cannot divide by zero!\")\n",
    "\n",
    "# Using Variables in Expressions\n",
    "total = (x + y) * 2        # Parentheses for precedence\n",
    "average = sum_result / 2   # Using previous results"
   ]
  },
  {
   "cell_type": "markdown",
   "metadata": {},
   "source": [
    "\n",
    "\n",
    "Run in terminal:\n"
   ]
  },
  {
   "cell_type": "code",
   "execution_count": null,
   "metadata": {
    "vscode": {
     "languageId": "bash"
    }
   },
   "outputs": [],
   "source": [
    "python arithmetic_basics.py"
   ]
  }
 ],
 "metadata": {
  "language_info": {
   "name": "python"
  }
 },
 "nbformat": 4,
 "nbformat_minor": 2
}
