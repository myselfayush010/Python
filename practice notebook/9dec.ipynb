{
 "cells": [
  {
   "cell_type": "code",
   "execution_count": 3,
   "metadata": {},
   "outputs": [
    {
     "name": "stdout",
     "output_type": "stream",
     "text": [
      "the tempreture in celsius is 78.0 the tempreture in fernheit is 172.4\n"
     ]
    }
   ],
   "source": [
    "# Temperature Converter\n",
    "# 1. Get temperature input in Celsius from user\n",
    "# 2. Convert it to Fahrenheit using formula: °F = (°C × 9/5) + 32\n",
    "# 3. Display both Celsius and Fahrenheit temperatures\n",
    "\n",
    "# Write your code below:\n",
    "\n",
    "\n",
    "celsius = float(input(\" hello, can you please enter today's tempreture in celsius?\"))\n",
    "celsius_to_fahrenheit = (celsius * 9/5) + 32\n",
    "print(f\"the tempreture in celsius is {celsius} the tempreture in fernheit is {celsius_to_fahrenheit}\")\n"
   ]
  },
  {
   "cell_type": "code",
   "execution_count": 2,
   "metadata": {},
   "outputs": [
    {
     "name": "stdout",
     "output_type": "stream",
     "text": [
      "Welcome to our Grade Calculator\n",
      "Your grade is: C\n",
      "Congratulations! You passed!\n"
     ]
    }
   ],
   "source": [
    "# Grade Calculator\n",
    "# Get a score from the user (0-100)\n",
    "# Assign grades based on these rules:\n",
    "# - Score >= 90: Grade A\n",
    "# - Score >= 80: Grade B\n",
    "# - Score >= 70: Grade C\n",
    "# - Score >= 60: Grade D\n",
    "# - Score < 60:  Grade F\n",
    "# Tell if the student passed (grade D or above) or failed\n",
    "\n",
    "# Write your code below:\n",
    "print(\"Welcome to our Grade Calculator\")\n",
    "score = int(input(\"Please enter your marks (0-100): \"))\n",
    "\n",
    "if score < 0 or score > 100:\n",
    "    print(\"Invalid score! Please enter a score between 0 and 100\")\n",
    "else:\n",
    "    if score >= 90:\n",
    "        grade = \"A\"\n",
    "    elif score >= 80:\n",
    "        grade = \"B\"\n",
    "    elif score >= 70:\n",
    "        grade = \"C\"\n",
    "    elif score >= 60:\n",
    "        grade = \"D\"\n",
    "    else:\n",
    "        grade = \"F\"\n",
    "    \n",
    "    print(f\"Your grade is: {grade}\")\n",
    "    if grade != \"F\":\n",
    "        print(\"Congratulations! You passed!\")\n",
    "    else:\n",
    "        print(\"Sorry, you failed. Keep working hard!\")\n",
    "        "
   ]
  },
  {
   "cell_type": "code",
   "execution_count": 4,
   "metadata": {},
   "outputs": [
    {
     "name": "stdout",
     "output_type": "stream",
     "text": [
      "hey, welcome to my universe.\n",
      "hey, welcome to my universe.\n",
      "hey, welcome to my universe.\n"
     ]
    }
   ],
   "source": [
    "for i in range(3):\n",
    "    print(\"hey, welcome to my universe.\")"
   ]
  }
 ],
 "metadata": {
  "kernelspec": {
   "display_name": "py010",
   "language": "python",
   "name": "python3"
  },
  "language_info": {
   "codemirror_mode": {
    "name": "ipython",
    "version": 3
   },
   "file_extension": ".py",
   "mimetype": "text/x-python",
   "name": "python",
   "nbconvert_exporter": "python",
   "pygments_lexer": "ipython3",
   "version": "3.13.0"
  }
 },
 "nbformat": 4,
 "nbformat_minor": 2
}
