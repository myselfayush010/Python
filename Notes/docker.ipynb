{
 "cells": [
  {
   "cell_type": "markdown",
   "metadata": {},
   "source": [
    "Let's create a comprehensive Docker guide. Here's the step-by-step plan:\n",
    "\n",
    "1. Basic Dockerfile structure\n",
    "2. Docker commands\n",
    "3. Docker Compose setup\n",
    "4. Docker networking\n",
    "5. Multi-stage builds\n",
    "6. Best practices\n",
    "\n",
    "### 1. Basic Dockerfile\n",
    "\n"
   ]
  },
  {
   "cell_type": "code",
   "execution_count": null,
   "metadata": {
    "vscode": {
     "languageId": "dockerfile"
    }
   },
   "outputs": [],
   "source": [
    "# Base image\n",
    "FROM node:18-alpine\n",
    "\n",
    "# Working directory\n",
    "WORKDIR /app\n",
    "\n",
    "# Copy package files\n",
    "COPY package*.json ./\n",
    "\n",
    "# Install dependencies\n",
    "RUN npm install\n",
    "\n",
    "# Copy source code\n",
    "COPY . .\n",
    "\n",
    "# Expose port\n",
    "EXPOSE 3000\n",
    "\n",
    "# Start command\n",
    "CMD [\"npm\", \"start\"]"
   ]
  },
  {
   "cell_type": "markdown",
   "metadata": {},
   "source": [
    "\n",
    "\n",
    "### 2. Essential Docker Commands\n",
    "\n"
   ]
  },
  {
   "cell_type": "code",
   "execution_count": null,
   "metadata": {
    "vscode": {
     "languageId": "bash"
    }
   },
   "outputs": [],
   "source": [
    "# Build image\n",
    "docker build -t myapp:latest .\n",
    "\n",
    "# Run container\n",
    "docker run -d -p 3000:3000 myapp:latest\n",
    "\n",
    "# List containers\n",
    "docker ps\n",
    "\n",
    "# Stop container\n",
    "docker stop <container_id>\n",
    "\n",
    "# Remove container\n",
    "docker rm <container_id>\n",
    "\n",
    "# List images\n",
    "docker images\n",
    "\n",
    "# Remove image\n",
    "docker rmi <image_id>"
   ]
  },
  {
   "cell_type": "markdown",
   "metadata": {},
   "source": [
    "\n",
    "\n",
    "### 3. Docker Compose Setup\n",
    "\n"
   ]
  },
  {
   "cell_type": "code",
   "execution_count": null,
   "metadata": {
    "vscode": {
     "languageId": "yaml"
    }
   },
   "outputs": [],
   "source": [
    "# docker-compose.yml\n",
    "version: '3.8'\n",
    "\n",
    "services:\n",
    "  web:\n",
    "    build: .\n",
    "    ports:\n",
    "      - \"3000:3000\"\n",
    "    environment:\n",
    "      - NODE_ENV=production\n",
    "    depends_on:\n",
    "      - db\n",
    "  \n",
    "  db:\n",
    "    image: postgres:13\n",
    "    environment:\n",
    "      - POSTGRES_PASSWORD=secret\n",
    "    volumes:\n",
    "      - postgres_data:/var/lib/postgresql/data\n",
    "\n",
    "volumes:\n",
    "  postgres_data:"
   ]
  },
  {
   "cell_type": "markdown",
   "metadata": {},
   "source": [
    "\n",
    "\n",
    "### 4. Docker Network Commands\n",
    "\n"
   ]
  },
  {
   "cell_type": "code",
   "execution_count": null,
   "metadata": {
    "vscode": {
     "languageId": "bash"
    }
   },
   "outputs": [],
   "source": [
    "# Create network\n",
    "docker network create mynetwork\n",
    "\n",
    "# List networks\n",
    "docker network ls\n",
    "\n",
    "# Connect container to network\n",
    "docker network connect mynetwork container_name\n",
    "\n",
    "# Inspect network\n",
    "docker network inspect mynetwork"
   ]
  },
  {
   "cell_type": "markdown",
   "metadata": {},
   "source": [
    "\n",
    "\n",
    "### 5. Multi-stage Build Example\n",
    "\n"
   ]
  },
  {
   "cell_type": "code",
   "execution_count": null,
   "metadata": {
    "vscode": {
     "languageId": "dockerfile"
    }
   },
   "outputs": [],
   "source": [
    "# Build stage\n",
    "FROM node:18-alpine AS builder\n",
    "WORKDIR /app\n",
    "COPY package*.json ./\n",
    "RUN npm install\n",
    "COPY . .\n",
    "RUN npm run build\n",
    "\n",
    "# Production stage\n",
    "FROM nginx:alpine\n",
    "COPY --from=builder /app/build /usr/share/nginx/html\n",
    "EXPOSE 80\n",
    "CMD [\"nginx\", \"-g\", \"daemon off;\"]"
   ]
  },
  {
   "cell_type": "markdown",
   "metadata": {},
   "source": [
    "\n",
    "\n",
    "### 6. Best Practices\n",
    "\n"
   ]
  },
  {
   "cell_type": "code",
   "execution_count": null,
   "metadata": {
    "vscode": {
     "languageId": "dockerfile"
    }
   },
   "outputs": [],
   "source": [
    "# Use specific versions\n",
    "FROM node:18.15.0-alpine3.17\n",
    "\n",
    "# Layer caching\n",
    "COPY package*.json ./\n",
    "RUN npm ci\n",
    "\n",
    "# Security\n",
    "USER node\n",
    "\n",
    "# Health check\n",
    "HEALTHCHECK --interval=30s \\\n",
    "  CMD curl -f http://localhost:3000/health || exit 1\n",
    "\n",
    "# Labels\n",
    "LABEL maintainer=\"dev@example.com\" \\\n",
    "      version=\"1.0\" \\\n",
    "      description=\"Node.js application\""
   ]
  },
  {
   "cell_type": "markdown",
   "metadata": {},
   "source": [
    "# Comprehensive Docker Guide - Step by Step Plan\n",
    "\n",
    "1. Base Docker Setup\n",
    "   - Dockerfile fundamentals\n",
    "   - Basic container management\n",
    "\n",
    "2. Container Orchestration\n",
    "   - Docker Compose multi-service setup\n",
    "   - Network configuration\n",
    "\n",
    "3. Development Workflow\n",
    "   - Multi-stage builds\n",
    "   - Development vs Production environments\n",
    "\n",
    "4. Best Practices & Security\n",
    "   - Image optimization\n",
    "   - Security considerations\n",
    "\n",
    "Let's implement each step:\n",
    "\n",
    "### 1. Base Docker Setup\n",
    "\n"
   ]
  },
  {
   "cell_type": "code",
   "execution_count": null,
   "metadata": {
    "vscode": {
     "languageId": "dockerfile"
    }
   },
   "outputs": [],
   "source": [
    "\n",
    "\n",
    "FROM node:18-alpine\n",
    "\n",
    "WORKDIR /app\n",
    "\n",
    "COPY package*.json ./\n",
    "RUN npm ci --only=production\n",
    "\n",
    "COPY . .\n",
    "\n",
    "EXPOSE 3000\n",
    "USER node\n",
    "\n",
    "CMD [\"npm\", \"start\"]"
   ]
  },
  {
   "cell_type": "markdown",
   "metadata": {},
   "source": [
    "\n",
    "\n",
    "### 2. Container Orchestration\n",
    "\n"
   ]
  },
  {
   "cell_type": "code",
   "execution_count": null,
   "metadata": {
    "vscode": {
     "languageId": "yaml"
    }
   },
   "outputs": [],
   "source": [
    "\n",
    "\n",
    "version: '3.8'\n",
    "\n",
    "services:\n",
    "  api:\n",
    "    build: \n",
    "      context: .\n",
    "      target: development\n",
    "    volumes:\n",
    "      - .:/app\n",
    "      - /app/node_modules\n",
    "    ports:\n",
    "      - \"3000:3000\"\n",
    "    environment:\n",
    "      - NODE_ENV=development\n",
    "    networks:\n",
    "      - app-network\n",
    "\n",
    "  db:\n",
    "    image: postgres:14-alpine\n",
    "    environment:\n",
    "      POSTGRES_PASSWORD: ${DB_PASSWORD:-secret}\n",
    "    volumes:\n",
    "      - db-data:/var/lib/postgresql/data\n",
    "    networks:\n",
    "      - app-network\n",
    "\n",
    "networks:\n",
    "  app-network:\n",
    "    driver: bridge\n",
    "\n",
    "volumes:\n",
    "  db-data:"
   ]
  },
  {
   "cell_type": "markdown",
   "metadata": {},
   "source": [
    "\n",
    "\n",
    "### 3. Development Workflow\n",
    "\n"
   ]
  },
  {
   "cell_type": "code",
   "execution_count": null,
   "metadata": {
    "vscode": {
     "languageId": "dockerfile"
    }
   },
   "outputs": [],
   "source": [
    "\n",
    "\n",
    "FROM node:18-alpine AS dependencies\n",
    "WORKDIR /app\n",
    "COPY package*.json ./\n",
    "RUN npm ci\n",
    "\n",
    "FROM node:18-alpine AS builder\n",
    "WORKDIR /app\n",
    "COPY --from=dependencies /app/node_modules ./node_modules\n",
    "COPY . .\n",
    "RUN npm run build\n",
    "\n",
    "FROM node:18-alpine AS production\n",
    "WORKDIR /app\n",
    "COPY --from=dependencies /app/package*.json ./\n",
    "RUN npm ci --only=production\n",
    "COPY --from=builder /app/dist ./dist\n",
    "USER node\n",
    "CMD [\"node\", \"dist/main.js\"]"
   ]
  },
  {
   "cell_type": "markdown",
   "metadata": {},
   "source": [
    "\n",
    "\n",
    "### 4. Command Reference\n",
    "\n"
   ]
  },
  {
   "cell_type": "code",
   "execution_count": null,
   "metadata": {
    "vscode": {
     "languageId": "bash"
    }
   },
   "outputs": [],
   "source": [
    "# Build image\n",
    "docker build -t myapp:dev .\n",
    "\n",
    "# Run containers\n",
    "docker-compose up -d\n",
    "\n",
    "# View logs\n",
    "docker-compose logs -f\n",
    "\n",
    "# Execute tests\n",
    "docker-compose exec api npm test\n",
    "\n",
    "# Cleanup\n",
    "docker-compose down -v"
   ]
  },
  {
   "cell_type": "markdown",
   "metadata": {},
   "source": [
    "\n",
    "\n",
    "### 5. Security Configuration\n",
    "\n"
   ]
  },
  {
   "cell_type": "code",
   "execution_count": null,
   "metadata": {
    "vscode": {
     "languageId": "yaml"
    }
   },
   "outputs": [],
   "source": [
    "\n",
    "\n",
    "node_modules\n",
    "npm-debug.log\n",
    "Dockerfile*\n",
    "docker-compose*\n",
    ".git\n",
    ".env\n",
    "*.md"
   ]
  },
  {
   "cell_type": "markdown",
   "metadata": {},
   "source": [
    "# Docker Implementation Plan\n",
    "\n",
    "1. Project Structure\n",
    "   - Base Dockerfile\n",
    "   - Development/Production configs\n",
    "   - Docker Compose services\n",
    "   - Docker ignore and security\n",
    "\n",
    "2. Core Services Setup\n",
    "   - Web application\n",
    "   - Database\n",
    "   - Cache layer\n",
    "   - Message queue\n",
    "\n",
    "3. Development Environment  \n",
    "   - Hot reloading\n",
    "   - Debug configuration\n",
    "   - Volume mounts\n",
    "\n",
    "4. Production Environment\n",
    "   - Multi-stage builds\n",
    "   - Security hardening\n",
    "   - Health checks\n",
    "   - Logging\n",
    "\n",
    "5. CI/CD Pipeline\n",
    "   - Build stages\n",
    "   - Testing\n",
    "   - Deployment\n",
    "\n",
    "### Base Implementation\n",
    "\n"
   ]
  },
  {
   "cell_type": "code",
   "execution_count": null,
   "metadata": {
    "vscode": {
     "languageId": "dockerfile"
    }
   },
   "outputs": [],
   "source": [
    "\n",
    "\n",
    "FROM node:18-alpine AS base\n",
    "\n",
    "# Security: Run as non-root\n",
    "RUN addgroup -S appgroup && adduser -S appuser -G appgroup\n",
    "USER appuser\n",
    "\n",
    "WORKDIR /app\n",
    "\n",
    "# Layer optimization\n",
    "COPY package*.json ./\n",
    "RUN npm ci --only=production\n",
    "\n",
    "COPY . .\n",
    "\n",
    "# Health check\n",
    "HEALTHCHECK --interval=30s \\\n",
    "  CMD wget --no-verbose --tries=1 --spider http://localhost:3000/health || exit 1\n",
    "\n",
    "EXPOSE 3000\n",
    "CMD [\"npm\", \"start\"]"
   ]
  },
  {
   "cell_type": "code",
   "execution_count": null,
   "metadata": {
    "vscode": {
     "languageId": "yaml"
    }
   },
   "outputs": [],
   "source": [
    "\n",
    "\n",
    "version: '3.8'\n",
    "\n",
    "services:\n",
    "  web:\n",
    "    build: \n",
    "      context: .\n",
    "      target: development\n",
    "    volumes:\n",
    "      - .:/app\n",
    "      - /app/node_modules\n",
    "    ports:\n",
    "      - \"3000:3000\"\n",
    "    depends_on:\n",
    "      - db\n",
    "      - redis\n",
    "      - rabbitmq\n",
    "\n",
    "  db:\n",
    "    image: postgres:14-alpine\n",
    "    environment:\n",
    "      POSTGRES_PASSWORD: ${DB_PASSWORD}\n",
    "    volumes:\n",
    "      - pgdata:/var/lib/postgresql/data\n",
    "\n",
    "  redis:\n",
    "    image: redis:alpine\n",
    "    ports:\n",
    "      - \"6379:6379\"\n",
    "\n",
    "  rabbitmq:\n",
    "    image: rabbitmq:management-alpine\n",
    "    ports:\n",
    "      - \"5672:5672\"\n",
    "      - \"15672:15672\"\n",
    "\n",
    "volumes:\n",
    "  pgdata:\n",
    "\n",
    "networks:\n",
    "  app-network:\n",
    "    driver: bridge"
   ]
  },
  {
   "cell_type": "code",
   "execution_count": null,
   "metadata": {
    "vscode": {
     "languageId": "gitignore"
    }
   },
   "outputs": [],
   "source": [
    "\n",
    "\n",
    "node_modules\n",
    "npm-debug.log\n",
    ".git\n",
    ".env\n",
    "*.md\n",
    ".DS_Store\n",
    "tests\n",
    "docs"
   ]
  },
  {
   "cell_type": "markdown",
   "metadata": {},
   "source": [
    "\n",
    "\n",
    "\n",
    "\n",
    "\n",
    "\n",
    "Notes for next iterations:\n",
    "1. Add monitoring setup (Prometheus/Grafana)\n",
    "2. Implement logging (ELK stack)\n",
    "3. Add backup strategies\n",
    "4. Document scaling approaches\n",
    "5. Create deployment templates"
   ]
  }
 ],
 "metadata": {
  "language_info": {
   "name": "python"
  }
 },
 "nbformat": 4,
 "nbformat_minor": 2
}
