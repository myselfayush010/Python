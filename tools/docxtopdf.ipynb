{
 "cells": [
  {
   "cell_type": "code",
   "execution_count": null,
   "metadata": {},
   "outputs": [],
   "source": [
    "import pandas as pd\n",
    "import os\n",
    "import subprocess\n",
    "from datetime import datetime\n",
    "\n",
    "# Set paths\n",
    "DOCX_PATH = \"010test.docx\"\n",
    "OUTPUT_DIR = \"/home/nothing/Python/tools\"\n",
    "OUTPUT_PDF = os.path.join(OUTPUT_DIR, \"library.pdf\")\n",
    "\n",
    "def convert_using_libreoffice():\n",
    "    # Create tracking DataFrame\n",
    "    log_df = pd.DataFrame({\n",
    "        'source': [DOCX_PATH],\n",
    "        'destination': [OUTPUT_PDF],\n",
    "        'timestamp': [datetime.now()],\n",
    "        'status': ['pending']\n",
    "    })\n",
    "    \n",
    "    try:\n",
    "        # LibreOffice conversion command\n",
    "        cmd = ['libreoffice', '--headless', '--convert-to', 'pdf', \n",
    "               '--outdir', OUTPUT_DIR, DOCX_PATH]\n",
    "        \n",
    "        # Execute conversion\n",
    "        process = subprocess.run(cmd, \n",
    "                               stdout=subprocess.PIPE, \n",
    "                               stderr=subprocess.PIPE)\n",
    "        \n",
    "        if process.returncode == 0:\n",
    "            log_df.loc[0, 'status'] = 'success'\n",
    "        else:\n",
    "            log_df.loc[0, 'status'] = f'failed: {process.stderr.decode()}'\n",
    "            \n",
    "    except Exception as e:\n",
    "        log_df.loc[0, 'status'] = f'failed: {str(e)}'\n",
    "    \n",
    "    return log_df\n",
    "\n",
    "# Run conversion\n",
    "result = convert_using_libreoffice()\n",
    "print(result.to_string())"
   ]
  }
 ],
 "metadata": {
  "kernelspec": {
   "display_name": "py010",
   "language": "python",
   "name": "python3"
  },
  "language_info": {
   "name": "python",
   "version": "3.12.7"
  }
 },
 "nbformat": 4,
 "nbformat_minor": 2
}
