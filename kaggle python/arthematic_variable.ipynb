{
 "cells": [
  {
   "cell_type": "code",
   "execution_count": null,
   "metadata": {},
   "outputs": [],
   "source": []
  },
  {
   "cell_type": "code",
   "execution_count": null,
   "metadata": {},
   "outputs": [],
   "source": []
  },
  {
   "cell_type": "code",
   "execution_count": 25,
   "metadata": {},
   "outputs": [
    {
     "name": "stdout",
     "output_type": "stream",
     "text": [
      "\n",
      "First 5 rows of the Titanic dataset:\n",
      "  data_split  sub_directory  image_count\n",
      "0        val  healthy_guava          185\n",
      "1        val      fruit_fly          262\n",
      "2        val    Anthracnose          308\n",
      "3       test  healthy_guava           94\n",
      "\n",
      "Dataset Info:\n",
      "<class 'pandas.core.frame.DataFrame'>\n",
      "RangeIndex: 10 entries, 0 to 9\n",
      "Data columns (total 3 columns):\n",
      " #   Column         Non-Null Count  Dtype \n",
      "---  ------         --------------  ----- \n",
      " 0   data_split     10 non-null     object\n",
      " 1   sub_directory  10 non-null     object\n",
      " 2   image_count    10 non-null     int64 \n",
      "dtypes: int64(1), object(2)\n",
      "memory usage: 372.0+ bytes\n",
      "None\n"
     ]
    }
   ],
   "source": [
    "# Import required libraries\n",
    "import pandas as pd\n",
    "\n",
    "    # Load the Titanic dataset with correct path\n",
    "fruits = pd.read_csv(\"dataset_summary.csv\")\n",
    "    \n",
    "    # Display first 5 rows with improved formatting\n",
    "print(\"\\nFirst 5 rows of the Titanic dataset:\")\n",
    "print(fruits.head(4).to_string())\n",
    "    \n",
    "    # Display basic dataset info\n",
    "print(\"\\nDataset Info:\")\n",
    "print(fruits.info())"
   ]
  },
  {
   "cell_type": "code",
   "execution_count": 2,
   "metadata": {},
   "outputs": [
    {
     "name": "stdout",
     "output_type": "stream",
     "text": [
      "31536000\n"
     ]
    }
   ],
   "source": [
    "seconds_per_minute = 60\n",
    "minutes_per_hour = 60\n",
    "hours_per_day = 24\n",
    "days_per_year = 365\n",
    "\n",
    "# Total seconds in a year\n",
    "seconds_per_year = seconds_per_minute * minutes_per_hour * hours_per_day * days_per_year\n",
    "\n",
    "print(seconds_per_year)  # Output: 126144000\n"
   ]
  },
  {
   "cell_type": "code",
   "execution_count": 1,
   "metadata": {},
   "outputs": [
    {
     "name": "stdout",
     "output_type": "stream",
     "text": [
      "360000\n"
     ]
    }
   ],
   "source": [
    "births_per_min = 250\n",
    "min_per_hour = 60  # Keep the meaning clear\n",
    "hours_per_day = 24\n",
    "\n",
    "# Total minutes in a day\n",
    "total_minutes_per_day = min_per_hour * hours_per_day\n",
    "\n",
    "# Total births in a day\n",
    "births_per_day = births_per_min * total_minutes_per_day\n",
    "\n",
    "print(births_per_day)  # Optional: To display the result\n"
   ]
  }
 ],
 "metadata": {
  "kernelspec": {
   "display_name": "py010",
   "language": "python",
   "name": "python3"
  },
  "language_info": {
   "codemirror_mode": {
    "name": "ipython",
    "version": 3
   },
   "file_extension": ".py",
   "mimetype": "text/x-python",
   "name": "python",
   "nbconvert_exporter": "python",
   "pygments_lexer": "ipython3",
   "version": "3.12.7"
  }
 },
 "nbformat": 4,
 "nbformat_minor": 2
}
