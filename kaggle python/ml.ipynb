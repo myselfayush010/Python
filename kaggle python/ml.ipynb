{
 "cells": [
  {
   "cell_type": "code",
   "execution_count": null,
   "metadata": {},
   "outputs": [],
   "source": [
    "import pandas as pd\n",
    "import numpy as np\n",
    "import matplotlib.pyplot as plt\n",
    "import seaborn as sns\n",
    "from datetime import datetime\n",
    "import talib\n",
    "\n",
    "# Load data\n",
    "df = pd.read_csv('/home/nothing/Python/kaggle python/dataset_summary.csv')\n",
    "df['Date'] = pd.to_datetime(df['Date'])\n",
    "df.set_index('Date', inplace=True)\n",
    "\n",
    "# Calculate technical indicators\n",
    "df['MA20'] = df['Close'].rolling(window=20).mean()\n",
    "df['MA50'] = df['Close'].rolling(window=50).mean()\n",
    "df['Returns'] = df['Close'].pct_change()\n",
    "\n",
    "# RSI\n",
    "df['RSI'] = talib.RSI(df['Close'].values, timeperiod=14)\n",
    "\n",
    "# MACD\n",
    "macd, signal, hist = talib.MACD(df['Close'].values, fastperiod=12, slowperiod=26, signalperiod=9)\n",
    "df['MACD'] = macd\n",
    "df['Signal'] = signal\n",
    "\n",
    "# Visualization\n",
    "plt.figure(figsize=(15,10))\n",
    "plt.plot(df.index, df['Close'], label='Close Price')\n",
    "plt.plot(df.index, df['MA20'], label='20 Day MA')\n",
    "plt.plot(df.index, df['MA50'], label='50 Day MA')\n",
    "plt.title('Visa Stock Price Analysis')\n",
    "plt.xlabel('Date')\n",
    "plt.ylabel('Price')\n",
    "plt.legend()\n",
    "plt.show()\n",
    "\n",
    "# Volume analysis\n",
    "plt.figure(figsize=(15,5))\n",
    "plt.bar(df.index, df['Volume'])\n",
    "plt.title('Trading Volume')\n",
    "plt.xlabel('Date')\n",
    "plt.ylabel('Volume')\n",
    "plt.show()\n",
    "\n",
    "# Save processed data\n",
    "df.to_csv('processed_visa_stocks.csv')"
   ]
  }
 ],
 "metadata": {
  "kernelspec": {
   "display_name": "py010",
   "language": "python",
   "name": "python3"
  },
  "language_info": {
   "codemirror_mode": {
    "name": "ipython",
    "version": 3
   },
   "file_extension": ".py",
   "mimetype": "text/x-python",
   "name": "python",
   "nbconvert_exporter": "python",
   "pygments_lexer": "ipython3",
   "version": "3.12.7"
  }
 },
 "nbformat": 4,
 "nbformat_minor": 2
}
