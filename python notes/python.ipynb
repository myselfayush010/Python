{
 "cells": [
  {
   "cell_type": "markdown",
   "metadata": {},
   "source": [
    "Sure, here is a detailed set of Python notes in Markdown format:\n",
    "\n"
   ]
  },
  {
   "cell_type": "code",
   "execution_count": null,
   "metadata": {
    "vscode": {
     "languageId": "markdown"
    }
   },
   "outputs": [],
   "source": [
    "Name = input(\"what's your name\")\n",
    "print(\"hello\", Name)"
   ]
  },
  {
   "cell_type": "code",
   "execution_count": null,
   "metadata": {
    "vscode": {
     "languageId": "markdown"
    }
   },
   "outputs": [],
   "source": [
    "# Python Notes\n",
    "\n",
    "## Introduction to Python\n",
    "Python is a high-level, interpreted programming language known for its readability and simplicity. It supports multiple programming paradigms, including procedural, object-oriented, and functional programming.\n",
    "\n",
    "## Basic Syntax\n",
    "### Variables and Data Types\n",
    "- **Variables**: Used to store data values.\n",
    "  ```python\n",
    "  x = 5\n",
    "  y = \"Hello\""
   ]
  },
  {
   "cell_type": "markdown",
   "metadata": {},
   "source": [
    "\n",
    "\n",
    "- **Data Types**: Common data types include integers, floats, strings, lists, tuples, dictionaries, and sets.\n",
    "  ```python\n",
    "  int_var = 10\n",
    "  float_var = 10.5\n",
    "  str_var = \"Python\"\n",
    "  list_var = [1, 2, 3]\n",
    "  tuple_var = (1, 2, 3)\n",
    "  dict_var = {\"name\": \"John\", \"age\": 30}\n",
    "  set_var = {1, 2, 3}\n",
    "  ```\n",
    "\n",
    "### Control Structures\n",
    "- **If Statements**: Used for conditional execution.\n",
    "  ```python\n",
    "  if x > 0:\n",
    "      print(\"Positive\")\n",
    "  elif x == 0:\n",
    "      print(\"Zero\")\n",
    "  else:\n",
    "      print(\"Negative\")\n",
    "  ```\n",
    "\n",
    "- **Loops**: Used for iterating over a sequence.\n",
    "  - **For Loop**:\n",
    "    ```python\n",
    "    for i in range(5):\n",
    "        print(i)\n",
    "    ```\n",
    "\n",
    "  - **While Loop**:\n",
    "    ```python\n",
    "    i = 0\n",
    "    while i < 5:\n",
    "        print(i)\n",
    "        i += 1\n",
    "    ```\n",
    "\n",
    "### Functions\n",
    "Functions are defined using the `def` keyword.\n"
   ]
  },
  {
   "cell_type": "code",
   "execution_count": null,
   "metadata": {},
   "outputs": [],
   "source": [
    "def greet(name):\n",
    "    return f\"Hello, {name}\"\n",
    "\n",
    "print(greet(\"Alice\"))"
   ]
  },
  {
   "cell_type": "markdown",
   "metadata": {},
   "source": [
    "\n",
    "\n",
    "### Classes and Objects\n",
    "Python supports object-oriented programming.\n"
   ]
  },
  {
   "cell_type": "code",
   "execution_count": null,
   "metadata": {},
   "outputs": [],
   "source": [
    "class Person:\n",
    "    def __init__(self, name, age):\n",
    "        self.name = name\n",
    "        self.age = age\n",
    "\n",
    "    def greet(self):\n",
    "        return f\"Hello, my name is {self.name}\"\n",
    "\n",
    "person = Person(\"Alice\", 30)\n",
    "print(person.greet())"
   ]
  },
  {
   "cell_type": "markdown",
   "metadata": {},
   "source": [
    "\n",
    "\n",
    "## Advanced Topics\n",
    "### List Comprehensions\n",
    "A concise way to create lists.\n"
   ]
  },
  {
   "cell_type": "code",
   "execution_count": null,
   "metadata": {},
   "outputs": [],
   "source": [
    "squares = [x**2 for x in range(10)]"
   ]
  },
  {
   "cell_type": "markdown",
   "metadata": {},
   "source": [
    "\n",
    "\n",
    "### Lambda Functions\n",
    "Anonymous functions defined using the `lambda` keyword.\n"
   ]
  },
  {
   "cell_type": "code",
   "execution_count": null,
   "metadata": {},
   "outputs": [],
   "source": [
    "add = lambda a, b: a + b\n",
    "print(add(2, 3))"
   ]
  },
  {
   "cell_type": "markdown",
   "metadata": {},
   "source": [
    "\n",
    "\n",
    "### Modules and Packages\n",
    "- **Modules**: Files containing Python code.\n",
    "  ```python\n",
    "  import math\n",
    "  print(math.sqrt(16))\n",
    "  ```\n",
    "\n",
    "- **Packages**: Directories containing multiple modules.\n",
    "  ```python\n",
    "  from mypackage import mymodule\n",
    "  ```\n",
    "\n",
    "### Exception Handling\n",
    "Handling errors using `try`, `except`, `finally`.\n"
   ]
  },
  {
   "cell_type": "code",
   "execution_count": null,
   "metadata": {},
   "outputs": [],
   "source": [
    "try:\n",
    "    x = 1 / 0\n",
    "except ZeroDivisionError:\n",
    "    print(\"Cannot divide by zero\")\n",
    "finally:\n",
    "    print(\"This will always execute\")"
   ]
  },
  {
   "cell_type": "markdown",
   "metadata": {},
   "source": [
    "\n",
    "\n",
    "### File I/O\n",
    "Reading from and writing to files.\n"
   ]
  },
  {
   "cell_type": "code",
   "execution_count": null,
   "metadata": {},
   "outputs": [],
   "source": [
    "# Writing to a file\n",
    "with open(\"example.txt\", \"w\") as file:\n",
    "    file.write(\"Hello, World!\")\n",
    "\n",
    "# Reading from a file\n",
    "with open(\"example.txt\", \"r\") as file:\n",
    "    content = file.read()\n",
    "    print(content)"
   ]
  },
  {
   "cell_type": "markdown",
   "metadata": {},
   "source": [
    "\n",
    "\n",
    "## Useful Libraries\n",
    "- **NumPy**: Library for numerical computations.\n",
    "- **Pandas**: Library for data manipulation and analysis.\n",
    "- **Matplotlib**: Library for data visualization.\n",
    "- **Requests**: Library for making HTTP requests.\n",
    "\n",
    "## Best Practices\n",
    "- Follow the PEP 8 style guide for Python code.\n",
    "- Write meaningful variable and function names.\n",
    "- Keep functions small and focused on a single task.\n",
    "- Use comments and docstrings to document your code.\n",
    "- Write unit tests to ensure code correctness.\n",
    "\n",
    "## Conclusion\n",
    "Python is a versatile language with a simple syntax, making it a great choice for beginners and experienced developers alike. Its extensive standard library and active community contribute to its popularity in various fields, including web development, data science, artificial intelligence, and more.\n"
   ]
  },
  {
   "cell_type": "code",
   "execution_count": null,
   "metadata": {},
   "outputs": [],
   "source": [
    "\n",
    "You can save this content in a Markdown file (e.g., `python_notes.md`) and open it in any Markdown viewer or editor."
   ]
  }
 ],
 "metadata": {
  "kernelspec": {
   "display_name": "Python 3",
   "language": "python",
   "name": "python3"
  },
  "language_info": {
   "codemirror_mode": {
    "name": "ipython",
    "version": 3
   },
   "file_extension": ".py",
   "mimetype": "text/x-python",
   "name": "python",
   "nbconvert_exporter": "python",
   "pygments_lexer": "ipython3",
   "version": "3.12.7"
  }
 },
 "nbformat": 4,
 "nbformat_minor": 2
}
